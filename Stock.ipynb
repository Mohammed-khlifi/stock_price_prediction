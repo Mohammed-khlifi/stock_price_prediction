{
 "cells": [
  {
   "cell_type": "code",
   "execution_count": 1,
   "metadata": {},
   "outputs": [
    {
     "name": "stdout",
     "output_type": "stream",
     "text": [
      "Requirement already satisfied: tensorflow in c:\\users\\mohammed\\appdata\\local\\programs\\python\\python311\\lib\\site-packages (2.14.0)\n",
      "Requirement already satisfied: tensorflow-intel==2.14.0 in c:\\users\\mohammed\\appdata\\local\\programs\\python\\python311\\lib\\site-packages (from tensorflow) (2.14.0)\n",
      "Requirement already satisfied: absl-py>=1.0.0 in c:\\users\\mohammed\\appdata\\local\\programs\\python\\python311\\lib\\site-packages (from tensorflow-intel==2.14.0->tensorflow) (2.0.0)\n",
      "Requirement already satisfied: astunparse>=1.6.0 in c:\\users\\mohammed\\appdata\\local\\programs\\python\\python311\\lib\\site-packages (from tensorflow-intel==2.14.0->tensorflow) (1.6.3)\n",
      "Requirement already satisfied: flatbuffers>=23.5.26 in c:\\users\\mohammed\\appdata\\local\\programs\\python\\python311\\lib\\site-packages (from tensorflow-intel==2.14.0->tensorflow) (23.5.26)\n",
      "Requirement already satisfied: gast!=0.5.0,!=0.5.1,!=0.5.2,>=0.2.1 in c:\\users\\mohammed\\appdata\\local\\programs\\python\\python311\\lib\\site-packages (from tensorflow-intel==2.14.0->tensorflow) (0.5.4)\n",
      "Requirement already satisfied: google-pasta>=0.1.1 in c:\\users\\mohammed\\appdata\\local\\programs\\python\\python311\\lib\\site-packages (from tensorflow-intel==2.14.0->tensorflow) (0.2.0)\n",
      "Requirement already satisfied: h5py>=2.9.0 in c:\\users\\mohammed\\appdata\\local\\programs\\python\\python311\\lib\\site-packages (from tensorflow-intel==2.14.0->tensorflow) (3.10.0)\n",
      "Requirement already satisfied: libclang>=13.0.0 in c:\\users\\mohammed\\appdata\\local\\programs\\python\\python311\\lib\\site-packages (from tensorflow-intel==2.14.0->tensorflow) (16.0.6)\n",
      "Requirement already satisfied: ml-dtypes==0.2.0 in c:\\users\\mohammed\\appdata\\local\\programs\\python\\python311\\lib\\site-packages (from tensorflow-intel==2.14.0->tensorflow) (0.2.0)\n",
      "Requirement already satisfied: numpy>=1.23.5 in c:\\users\\mohammed\\appdata\\local\\programs\\python\\python311\\lib\\site-packages (from tensorflow-intel==2.14.0->tensorflow) (1.26.1)\n",
      "Requirement already satisfied: opt-einsum>=2.3.2 in c:\\users\\mohammed\\appdata\\local\\programs\\python\\python311\\lib\\site-packages (from tensorflow-intel==2.14.0->tensorflow) (3.3.0)\n",
      "Requirement already satisfied: packaging in c:\\users\\mohammed\\appdata\\roaming\\python\\python311\\site-packages (from tensorflow-intel==2.14.0->tensorflow) (23.2)\n",
      "Requirement already satisfied: protobuf!=4.21.0,!=4.21.1,!=4.21.2,!=4.21.3,!=4.21.4,!=4.21.5,<5.0.0dev,>=3.20.3 in c:\\users\\mohammed\\appdata\\local\\programs\\python\\python311\\lib\\site-packages (from tensorflow-intel==2.14.0->tensorflow) (4.25.0)\n",
      "Requirement already satisfied: setuptools in c:\\users\\mohammed\\appdata\\local\\programs\\python\\python311\\lib\\site-packages (from tensorflow-intel==2.14.0->tensorflow) (65.5.0)\n",
      "Requirement already satisfied: six>=1.12.0 in c:\\users\\mohammed\\appdata\\roaming\\python\\python311\\site-packages (from tensorflow-intel==2.14.0->tensorflow) (1.16.0)\n",
      "Requirement already satisfied: termcolor>=1.1.0 in c:\\users\\mohammed\\appdata\\local\\programs\\python\\python311\\lib\\site-packages (from tensorflow-intel==2.14.0->tensorflow) (2.3.0)\n",
      "Requirement already satisfied: typing-extensions>=3.6.6 in c:\\users\\mohammed\\appdata\\local\\programs\\python\\python311\\lib\\site-packages (from tensorflow-intel==2.14.0->tensorflow) (4.8.0)\n",
      "Requirement already satisfied: wrapt<1.15,>=1.11.0 in c:\\users\\mohammed\\appdata\\local\\programs\\python\\python311\\lib\\site-packages (from tensorflow-intel==2.14.0->tensorflow) (1.14.1)\n",
      "Requirement already satisfied: tensorflow-io-gcs-filesystem>=0.23.1 in c:\\users\\mohammed\\appdata\\local\\programs\\python\\python311\\lib\\site-packages (from tensorflow-intel==2.14.0->tensorflow) (0.31.0)\n",
      "Requirement already satisfied: grpcio<2.0,>=1.24.3 in c:\\users\\mohammed\\appdata\\local\\programs\\python\\python311\\lib\\site-packages (from tensorflow-intel==2.14.0->tensorflow) (1.59.2)\n",
      "Requirement already satisfied: tensorboard<2.15,>=2.14 in c:\\users\\mohammed\\appdata\\local\\programs\\python\\python311\\lib\\site-packages (from tensorflow-intel==2.14.0->tensorflow) (2.14.1)\n",
      "Requirement already satisfied: tensorflow-estimator<2.15,>=2.14.0 in c:\\users\\mohammed\\appdata\\local\\programs\\python\\python311\\lib\\site-packages (from tensorflow-intel==2.14.0->tensorflow) (2.14.0)\n",
      "Requirement already satisfied: keras<2.15,>=2.14.0 in c:\\users\\mohammed\\appdata\\local\\programs\\python\\python311\\lib\\site-packages (from tensorflow-intel==2.14.0->tensorflow) (2.14.0)\n",
      "Requirement already satisfied: wheel<1.0,>=0.23.0 in c:\\users\\mohammed\\appdata\\local\\programs\\python\\python311\\lib\\site-packages (from astunparse>=1.6.0->tensorflow-intel==2.14.0->tensorflow) (0.41.3)\n",
      "Requirement already satisfied: google-auth<3,>=1.6.3 in c:\\users\\mohammed\\appdata\\local\\programs\\python\\python311\\lib\\site-packages (from tensorboard<2.15,>=2.14->tensorflow-intel==2.14.0->tensorflow) (2.23.4)\n",
      "Requirement already satisfied: google-auth-oauthlib<1.1,>=0.5 in c:\\users\\mohammed\\appdata\\local\\programs\\python\\python311\\lib\\site-packages (from tensorboard<2.15,>=2.14->tensorflow-intel==2.14.0->tensorflow) (1.0.0)\n",
      "Requirement already satisfied: markdown>=2.6.8 in c:\\users\\mohammed\\appdata\\local\\programs\\python\\python311\\lib\\site-packages (from tensorboard<2.15,>=2.14->tensorflow-intel==2.14.0->tensorflow) (3.5.1)\n",
      "Requirement already satisfied: requests<3,>=2.21.0 in c:\\users\\mohammed\\appdata\\local\\programs\\python\\python311\\lib\\site-packages (from tensorboard<2.15,>=2.14->tensorflow-intel==2.14.0->tensorflow) (2.31.0)\n",
      "Requirement already satisfied: tensorboard-data-server<0.8.0,>=0.7.0 in c:\\users\\mohammed\\appdata\\local\\programs\\python\\python311\\lib\\site-packages (from tensorboard<2.15,>=2.14->tensorflow-intel==2.14.0->tensorflow) (0.7.2)\n",
      "Requirement already satisfied: werkzeug>=1.0.1 in c:\\users\\mohammed\\appdata\\local\\programs\\python\\python311\\lib\\site-packages (from tensorboard<2.15,>=2.14->tensorflow-intel==2.14.0->tensorflow) (3.0.1)\n",
      "Requirement already satisfied: cachetools<6.0,>=2.0.0 in c:\\users\\mohammed\\appdata\\local\\programs\\python\\python311\\lib\\site-packages (from google-auth<3,>=1.6.3->tensorboard<2.15,>=2.14->tensorflow-intel==2.14.0->tensorflow) (5.3.2)\n",
      "Requirement already satisfied: pyasn1-modules>=0.2.1 in c:\\users\\mohammed\\appdata\\local\\programs\\python\\python311\\lib\\site-packages (from google-auth<3,>=1.6.3->tensorboard<2.15,>=2.14->tensorflow-intel==2.14.0->tensorflow) (0.3.0)\n",
      "Requirement already satisfied: rsa<5,>=3.1.4 in c:\\users\\mohammed\\appdata\\local\\programs\\python\\python311\\lib\\site-packages (from google-auth<3,>=1.6.3->tensorboard<2.15,>=2.14->tensorflow-intel==2.14.0->tensorflow) (4.9)\n",
      "Requirement already satisfied: requests-oauthlib>=0.7.0 in c:\\users\\mohammed\\appdata\\local\\programs\\python\\python311\\lib\\site-packages (from google-auth-oauthlib<1.1,>=0.5->tensorboard<2.15,>=2.14->tensorflow-intel==2.14.0->tensorflow) (1.3.1)\n",
      "Requirement already satisfied: charset-normalizer<4,>=2 in c:\\users\\mohammed\\appdata\\local\\programs\\python\\python311\\lib\\site-packages (from requests<3,>=2.21.0->tensorboard<2.15,>=2.14->tensorflow-intel==2.14.0->tensorflow) (3.3.2)\n",
      "Requirement already satisfied: idna<4,>=2.5 in c:\\users\\mohammed\\appdata\\local\\programs\\python\\python311\\lib\\site-packages (from requests<3,>=2.21.0->tensorboard<2.15,>=2.14->tensorflow-intel==2.14.0->tensorflow) (3.4)\n",
      "Requirement already satisfied: urllib3<3,>=1.21.1 in c:\\users\\mohammed\\appdata\\local\\programs\\python\\python311\\lib\\site-packages (from requests<3,>=2.21.0->tensorboard<2.15,>=2.14->tensorflow-intel==2.14.0->tensorflow) (2.0.7)\n",
      "Requirement already satisfied: certifi>=2017.4.17 in c:\\users\\mohammed\\appdata\\local\\programs\\python\\python311\\lib\\site-packages (from requests<3,>=2.21.0->tensorboard<2.15,>=2.14->tensorflow-intel==2.14.0->tensorflow) (2023.7.22)\n",
      "Requirement already satisfied: MarkupSafe>=2.1.1 in c:\\users\\mohammed\\appdata\\local\\programs\\python\\python311\\lib\\site-packages (from werkzeug>=1.0.1->tensorboard<2.15,>=2.14->tensorflow-intel==2.14.0->tensorflow) (2.1.3)\n",
      "Requirement already satisfied: pyasn1<0.6.0,>=0.4.6 in c:\\users\\mohammed\\appdata\\local\\programs\\python\\python311\\lib\\site-packages (from pyasn1-modules>=0.2.1->google-auth<3,>=1.6.3->tensorboard<2.15,>=2.14->tensorflow-intel==2.14.0->tensorflow) (0.5.0)\n",
      "Requirement already satisfied: oauthlib>=3.0.0 in c:\\users\\mohammed\\appdata\\local\\programs\\python\\python311\\lib\\site-packages (from requests-oauthlib>=0.7.0->google-auth-oauthlib<1.1,>=0.5->tensorboard<2.15,>=2.14->tensorflow-intel==2.14.0->tensorflow) (3.2.2)\n",
      "Note: you may need to restart the kernel to use updated packages.\n"
     ]
    },
    {
     "name": "stderr",
     "output_type": "stream",
     "text": [
      "\n",
      "[notice] A new release of pip available: 22.3.1 -> 23.3.1\n",
      "[notice] To update, run: python.exe -m pip install --upgrade pip\n"
     ]
    }
   ],
   "source": []
  },
  {
   "cell_type": "code",
   "execution_count": 1,
   "metadata": {},
   "outputs": [],
   "source": [
    "import os\n",
    "import numpy as np \n",
    "import matplotlib.pyplot as plt\n",
    "import pandas as pd"
   ]
  },
  {
   "cell_type": "code",
   "execution_count": 2,
   "metadata": {},
   "outputs": [
    {
     "data": {
      "text/html": [
       "<div>\n",
       "<style scoped>\n",
       "    .dataframe tbody tr th:only-of-type {\n",
       "        vertical-align: middle;\n",
       "    }\n",
       "\n",
       "    .dataframe tbody tr th {\n",
       "        vertical-align: top;\n",
       "    }\n",
       "\n",
       "    .dataframe thead th {\n",
       "        text-align: right;\n",
       "    }\n",
       "</style>\n",
       "<table border=\"1\" class=\"dataframe\">\n",
       "  <thead>\n",
       "    <tr style=\"text-align: right;\">\n",
       "      <th></th>\n",
       "      <th>Date</th>\n",
       "      <th>Price</th>\n",
       "      <th>Open</th>\n",
       "      <th>High</th>\n",
       "      <th>Low</th>\n",
       "      <th>Vol.</th>\n",
       "      <th>Change %</th>\n",
       "    </tr>\n",
       "  </thead>\n",
       "  <tbody>\n",
       "    <tr>\n",
       "      <th>0</th>\n",
       "      <td>12/30/2022</td>\n",
       "      <td>392.0</td>\n",
       "      <td>393.50</td>\n",
       "      <td>395.00</td>\n",
       "      <td>392.00</td>\n",
       "      <td>72.49K</td>\n",
       "      <td>-0.76%</td>\n",
       "    </tr>\n",
       "    <tr>\n",
       "      <th>1</th>\n",
       "      <td>12/29/2022</td>\n",
       "      <td>395.0</td>\n",
       "      <td>392.35</td>\n",
       "      <td>395.00</td>\n",
       "      <td>392.35</td>\n",
       "      <td>35.95K</td>\n",
       "      <td>-0.50%</td>\n",
       "    </tr>\n",
       "    <tr>\n",
       "      <th>2</th>\n",
       "      <td>12/28/2022</td>\n",
       "      <td>397.0</td>\n",
       "      <td>392.30</td>\n",
       "      <td>397.00</td>\n",
       "      <td>390.05</td>\n",
       "      <td>2.34K</td>\n",
       "      <td>0.00%</td>\n",
       "    </tr>\n",
       "    <tr>\n",
       "      <th>3</th>\n",
       "      <td>12/27/2022</td>\n",
       "      <td>397.0</td>\n",
       "      <td>392.00</td>\n",
       "      <td>398.95</td>\n",
       "      <td>392.00</td>\n",
       "      <td>27.38K</td>\n",
       "      <td>-0.75%</td>\n",
       "    </tr>\n",
       "    <tr>\n",
       "      <th>4</th>\n",
       "      <td>12/26/2022</td>\n",
       "      <td>400.0</td>\n",
       "      <td>400.00</td>\n",
       "      <td>400.00</td>\n",
       "      <td>400.00</td>\n",
       "      <td>0.16K</td>\n",
       "      <td>0.00%</td>\n",
       "    </tr>\n",
       "  </tbody>\n",
       "</table>\n",
       "</div>"
      ],
      "text/plain": [
       "         Date  Price    Open    High     Low    Vol. Change %\n",
       "0  12/30/2022  392.0  393.50  395.00  392.00  72.49K   -0.76%\n",
       "1  12/29/2022  395.0  392.35  395.00  392.35  35.95K   -0.50%\n",
       "2  12/28/2022  397.0  392.30  397.00  390.05   2.34K    0.00%\n",
       "3  12/27/2022  397.0  392.00  398.95  392.00  27.38K   -0.75%\n",
       "4  12/26/2022  400.0  400.00  400.00  400.00   0.16K    0.00%"
      ]
     },
     "execution_count": 2,
     "metadata": {},
     "output_type": "execute_result"
    }
   ],
   "source": [
    "dataset=pd.read_csv(\"ATW Historical Data.csv\")\n",
    "dataset.head()"
   ]
  },
  {
   "cell_type": "code",
   "execution_count": 3,
   "metadata": {},
   "outputs": [
    {
     "name": "stdout",
     "output_type": "stream",
     "text": [
      "[[393.5 ]\n",
      " [392.35]\n",
      " [392.3 ]\n",
      " ...\n",
      " [503.  ]\n",
      " [501.1 ]\n",
      " [500.  ]]\n",
      "(1238, 1)\n"
     ]
    }
   ],
   "source": [
    "trainingset=dataset.iloc[:,2:3].values\n",
    "print(trainingset)\n",
    "print(trainingset.shape)"
   ]
  },
  {
   "cell_type": "code",
   "execution_count": 4,
   "metadata": {},
   "outputs": [
    {
     "name": "stdout",
     "output_type": "stream",
     "text": [
      "[[0.37692308]\n",
      " [0.37102564]\n",
      " [0.37076923]\n",
      " ...\n",
      " [0.93846154]\n",
      " [0.92871795]\n",
      " [0.92307692]]\n"
     ]
    }
   ],
   "source": [
    "from sklearn.preprocessing import MinMaxScaler\n",
    "\n",
    "scaler= MinMaxScaler(feature_range= (0,1))\n",
    "scaled_set=scaler.fit_transform(trainingset)\n",
    "\n",
    "print(scaled_set)\n"
   ]
  },
  {
   "cell_type": "code",
   "execution_count": 14,
   "metadata": {},
   "outputs": [
    {
     "name": "stdout",
     "output_type": "stream",
     "text": [
      "[[0.37692308 0.37102564 0.37076923 ... 0.53846154 0.51820513 0.52307692]\n",
      " [0.37102564 0.37076923 0.36923077 ... 0.51820513 0.52307692 0.49282051]\n",
      " [0.37076923 0.36923077 0.41025641 ... 0.52307692 0.49282051 0.49307692]\n",
      " ...\n",
      " [0.88717949 0.88205128 0.88333333 ... 0.91794872 0.92307692 0.91282051]\n",
      " [0.88205128 0.88333333 0.88717949 ... 0.92307692 0.91282051 0.93846154]\n",
      " [0.88333333 0.88717949 0.87948718 ... 0.91282051 0.93846154 0.92871795]]\n",
      "(1178,)\n"
     ]
    }
   ],
   "source": [
    "\n",
    "X = []\n",
    "Y = []\n",
    "\n",
    "for i in range(60,1238):\n",
    "    X.append(scaled_set[i-60:i,0])\n",
    "    Y.append(scaled_set[i,0])\n",
    "\n",
    "X = np.array(X)\n",
    "Y = np.array(Y)\n",
    "\n",
    "print(X)\n",
    "print(Y.shape)"
   ]
  },
  {
   "cell_type": "code",
   "execution_count": 15,
   "metadata": {},
   "outputs": [
    {
     "name": "stdout",
     "output_type": "stream",
     "text": [
      "(1178, 60, 1)\n"
     ]
    }
   ],
   "source": [
    "X = np.reshape(X,(X.shape[0],X.shape[1],1))\n",
    "Y = np.reshape(Y, (Y.shape[0], 1))\n",
    "\n",
    "print(X.shape)"
   ]
  },
  {
   "cell_type": "code",
   "execution_count": 16,
   "metadata": {},
   "outputs": [],
   "source": [
    "from keras.models import Sequential\n",
    "from keras.layers import LSTM\n",
    "from keras.layers import Dense\n",
    "from keras.layers import Dropout"
   ]
  },
  {
   "cell_type": "code",
   "execution_count": 17,
   "metadata": {},
   "outputs": [],
   "source": [
    "Re= Sequential()\n",
    "\n",
    "Re.add(LSTM(units=50 ,return_sequences=True ,input_shape=(X.shape[1],1)))\n",
    "Re.add(Dropout(0.2))\n",
    "\n",
    "Re.add(LSTM(units=50 ,return_sequences=True ))\n",
    "Re.add(Dropout(0.2))\n",
    "\n",
    "Re.add(LSTM(units=50 ,return_sequences=True ))\n",
    "Re.add(Dropout(0.2))\n",
    "\n",
    "Re.add(LSTM(units=50 ))\n",
    "Re.add(Dropout(0.2))\n",
    "\n",
    "Re.add(Dense(units=1))"
   ]
  },
  {
   "cell_type": "code",
   "execution_count": 66,
   "metadata": {},
   "outputs": [
    {
     "name": "stdout",
     "output_type": "stream",
     "text": [
      "Epoch 1/100\n",
      "37/37 [==============================] - 12s 93ms/step - loss: 0.0087\n",
      "Epoch 2/100\n",
      "37/37 [==============================] - 4s 109ms/step - loss: 0.0059\n",
      "Epoch 3/100\n",
      "37/37 [==============================] - 5s 122ms/step - loss: 0.0057\n",
      "Epoch 4/100\n",
      "37/37 [==============================] - 4s 111ms/step - loss: 0.0060\n",
      "Epoch 5/100\n",
      "37/37 [==============================] - 4s 113ms/step - loss: 0.0056\n",
      "Epoch 6/100\n",
      "37/37 [==============================] - 4s 116ms/step - loss: 0.0057\n",
      "Epoch 7/100\n",
      "37/37 [==============================] - 4s 113ms/step - loss: 0.0056\n",
      "Epoch 8/100\n",
      "37/37 [==============================] - 4s 110ms/step - loss: 0.0053\n",
      "Epoch 9/100\n",
      "37/37 [==============================] - 4s 109ms/step - loss: 0.0057\n",
      "Epoch 10/100\n",
      "37/37 [==============================] - 4s 112ms/step - loss: 0.0050\n",
      "Epoch 11/100\n",
      "37/37 [==============================] - 4s 113ms/step - loss: 0.0054\n",
      "Epoch 12/100\n",
      "37/37 [==============================] - 4s 110ms/step - loss: 0.0054\n",
      "Epoch 13/100\n",
      "37/37 [==============================] - 4s 112ms/step - loss: 0.0046\n",
      "Epoch 14/100\n",
      "37/37 [==============================] - 4s 117ms/step - loss: 0.0048\n",
      "Epoch 15/100\n",
      "37/37 [==============================] - 4s 114ms/step - loss: 0.0044\n",
      "Epoch 16/100\n",
      "37/37 [==============================] - 4s 113ms/step - loss: 0.0045\n",
      "Epoch 17/100\n",
      "37/37 [==============================] - 4s 115ms/step - loss: 0.0042\n",
      "Epoch 18/100\n",
      "37/37 [==============================] - 4s 110ms/step - loss: 0.0041\n",
      "Epoch 19/100\n",
      "37/37 [==============================] - 4s 110ms/step - loss: 0.0044\n",
      "Epoch 20/100\n",
      "37/37 [==============================] - 4s 98ms/step - loss: 0.0041\n",
      "Epoch 21/100\n",
      "37/37 [==============================] - 4s 97ms/step - loss: 0.0043\n",
      "Epoch 22/100\n",
      "37/37 [==============================] - 4s 95ms/step - loss: 0.0042\n",
      "Epoch 23/100\n",
      "37/37 [==============================] - 4s 96ms/step - loss: 0.0044\n",
      "Epoch 24/100\n",
      "37/37 [==============================] - 3s 93ms/step - loss: 0.0041\n",
      "Epoch 25/100\n",
      "37/37 [==============================] - 4s 98ms/step - loss: 0.0039\n",
      "Epoch 26/100\n",
      "37/37 [==============================] - 4s 96ms/step - loss: 0.0038\n",
      "Epoch 27/100\n",
      "37/37 [==============================] - 4s 97ms/step - loss: 0.0036\n",
      "Epoch 28/100\n",
      "37/37 [==============================] - 4s 95ms/step - loss: 0.0034\n",
      "Epoch 29/100\n",
      "37/37 [==============================] - 3s 93ms/step - loss: 0.0036\n",
      "Epoch 30/100\n",
      "37/37 [==============================] - 4s 101ms/step - loss: 0.0035\n",
      "Epoch 31/100\n",
      "37/37 [==============================] - 4s 110ms/step - loss: 0.0035\n",
      "Epoch 32/100\n",
      "37/37 [==============================] - 4s 109ms/step - loss: 0.0035\n",
      "Epoch 33/100\n",
      "37/37 [==============================] - 4s 106ms/step - loss: 0.0033\n",
      "Epoch 34/100\n",
      "37/37 [==============================] - 4s 107ms/step - loss: 0.0033\n",
      "Epoch 35/100\n",
      "37/37 [==============================] - 4s 104ms/step - loss: 0.0034\n",
      "Epoch 36/100\n",
      "37/37 [==============================] - 4s 106ms/step - loss: 0.0033\n",
      "Epoch 37/100\n",
      "37/37 [==============================] - 4s 103ms/step - loss: 0.0032\n",
      "Epoch 38/100\n",
      "37/37 [==============================] - 4s 104ms/step - loss: 0.0030\n",
      "Epoch 39/100\n",
      "37/37 [==============================] - 4s 103ms/step - loss: 0.0033\n",
      "Epoch 40/100\n",
      "37/37 [==============================] - 4s 106ms/step - loss: 0.0031\n",
      "Epoch 41/100\n",
      "37/37 [==============================] - 4s 106ms/step - loss: 0.0031\n",
      "Epoch 42/100\n",
      "37/37 [==============================] - 4s 104ms/step - loss: 0.0029\n",
      "Epoch 43/100\n",
      "37/37 [==============================] - 4s 103ms/step - loss: 0.0030\n",
      "Epoch 44/100\n",
      "37/37 [==============================] - 4s 103ms/step - loss: 0.0027\n",
      "Epoch 45/100\n",
      "37/37 [==============================] - 4s 102ms/step - loss: 0.0028\n",
      "Epoch 46/100\n",
      "37/37 [==============================] - 4s 107ms/step - loss: 0.0027\n",
      "Epoch 47/100\n",
      "37/37 [==============================] - 4s 103ms/step - loss: 0.0027\n",
      "Epoch 48/100\n",
      "37/37 [==============================] - 4s 107ms/step - loss: 0.0029\n",
      "Epoch 49/100\n",
      "37/37 [==============================] - 4s 104ms/step - loss: 0.0027\n",
      "Epoch 50/100\n",
      "37/37 [==============================] - 4s 110ms/step - loss: 0.0028\n",
      "Epoch 51/100\n",
      "37/37 [==============================] - 4s 99ms/step - loss: 0.0026\n",
      "Epoch 52/100\n",
      "37/37 [==============================] - 3s 94ms/step - loss: 0.0027\n",
      "Epoch 53/100\n",
      "37/37 [==============================] - 3s 92ms/step - loss: 0.0027\n",
      "Epoch 54/100\n",
      "37/37 [==============================] - 3s 92ms/step - loss: 0.0026\n",
      "Epoch 55/100\n",
      "37/37 [==============================] - 3s 91ms/step - loss: 0.0024\n",
      "Epoch 56/100\n",
      "37/37 [==============================] - 3s 90ms/step - loss: 0.0024\n",
      "Epoch 57/100\n",
      "37/37 [==============================] - 3s 93ms/step - loss: 0.0022\n",
      "Epoch 58/100\n",
      "37/37 [==============================] - 3s 93ms/step - loss: 0.0022\n",
      "Epoch 59/100\n",
      "37/37 [==============================] - 3s 92ms/step - loss: 0.0024\n",
      "Epoch 60/100\n",
      "37/37 [==============================] - 4s 122ms/step - loss: 0.0023\n",
      "Epoch 61/100\n",
      "37/37 [==============================] - 4s 107ms/step - loss: 0.0023\n",
      "Epoch 62/100\n",
      "37/37 [==============================] - 4s 108ms/step - loss: 0.0025\n",
      "Epoch 63/100\n",
      "37/37 [==============================] - 4s 111ms/step - loss: 0.0023\n",
      "Epoch 64/100\n",
      "37/37 [==============================] - 4s 104ms/step - loss: 0.0024\n",
      "Epoch 65/100\n",
      "37/37 [==============================] - 4s 107ms/step - loss: 0.0023\n",
      "Epoch 66/100\n",
      "37/37 [==============================] - 4s 103ms/step - loss: 0.0022\n",
      "Epoch 67/100\n",
      "37/37 [==============================] - 4s 102ms/step - loss: 0.0022\n",
      "Epoch 68/100\n",
      "37/37 [==============================] - 4s 103ms/step - loss: 0.0021\n",
      "Epoch 69/100\n",
      "37/37 [==============================] - 4s 102ms/step - loss: 0.0022\n",
      "Epoch 70/100\n",
      "37/37 [==============================] - 4s 103ms/step - loss: 0.0021\n",
      "Epoch 71/100\n",
      "37/37 [==============================] - 4s 102ms/step - loss: 0.0024\n",
      "Epoch 72/100\n",
      "37/37 [==============================] - 4s 101ms/step - loss: 0.0020\n",
      "Epoch 73/100\n",
      "37/37 [==============================] - 4s 104ms/step - loss: 0.0020\n",
      "Epoch 74/100\n",
      "37/37 [==============================] - 4s 106ms/step - loss: 0.0020\n",
      "Epoch 75/100\n",
      "37/37 [==============================] - 4s 105ms/step - loss: 0.0020\n",
      "Epoch 76/100\n",
      "37/37 [==============================] - 4s 104ms/step - loss: 0.0022\n",
      "Epoch 77/100\n",
      "37/37 [==============================] - 4s 107ms/step - loss: 0.0021\n",
      "Epoch 78/100\n",
      "37/37 [==============================] - 4s 102ms/step - loss: 0.0020\n",
      "Epoch 79/100\n",
      "37/37 [==============================] - 4s 104ms/step - loss: 0.0020\n",
      "Epoch 80/100\n",
      "37/37 [==============================] - 4s 105ms/step - loss: 0.0020\n",
      "Epoch 81/100\n",
      "37/37 [==============================] - 4s 107ms/step - loss: 0.0019\n",
      "Epoch 82/100\n",
      "37/37 [==============================] - 4s 99ms/step - loss: 0.0019\n",
      "Epoch 83/100\n",
      "37/37 [==============================] - 3s 93ms/step - loss: 0.0019\n",
      "Epoch 84/100\n",
      "37/37 [==============================] - 3s 92ms/step - loss: 0.0020\n",
      "Epoch 85/100\n",
      "37/37 [==============================] - 3s 91ms/step - loss: 0.0018\n",
      "Epoch 86/100\n",
      "37/37 [==============================] - 3s 92ms/step - loss: 0.0017\n",
      "Epoch 87/100\n",
      "37/37 [==============================] - 3s 92ms/step - loss: 0.0018\n",
      "Epoch 88/100\n",
      "37/37 [==============================] - 3s 92ms/step - loss: 0.0018\n",
      "Epoch 89/100\n",
      "37/37 [==============================] - 3s 92ms/step - loss: 0.0018\n",
      "Epoch 90/100\n",
      "37/37 [==============================] - 4s 95ms/step - loss: 0.0018\n",
      "Epoch 91/100\n",
      "37/37 [==============================] - 3s 92ms/step - loss: 0.0018\n",
      "Epoch 92/100\n",
      "37/37 [==============================] - 4s 95ms/step - loss: 0.0017\n",
      "Epoch 93/100\n",
      "37/37 [==============================] - 3s 91ms/step - loss: 0.0017\n",
      "Epoch 94/100\n",
      "37/37 [==============================] - 4s 97ms/step - loss: 0.0017\n",
      "Epoch 95/100\n",
      "37/37 [==============================] - 4s 105ms/step - loss: 0.0019\n",
      "Epoch 96/100\n",
      "37/37 [==============================] - 4s 103ms/step - loss: 0.0016\n",
      "Epoch 97/100\n",
      "37/37 [==============================] - 4s 103ms/step - loss: 0.0017\n",
      "Epoch 98/100\n",
      "37/37 [==============================] - 5s 128ms/step - loss: 0.0017\n",
      "Epoch 99/100\n",
      "37/37 [==============================] - 4s 107ms/step - loss: 0.0017\n",
      "Epoch 100/100\n",
      "37/37 [==============================] - 4s 116ms/step - loss: 0.0016\n"
     ]
    },
    {
     "data": {
      "text/plain": [
       "<keras.src.callbacks.History at 0x176efc3c790>"
      ]
     },
     "execution_count": 66,
     "metadata": {},
     "output_type": "execute_result"
    }
   ],
   "source": [
    "Re.compile(optimizer='adam' ,loss='mean_squared_error')\n",
    "Re.fit(X,Y, epochs=100 ,batch_size=32)\n"
   ]
  },
  {
   "cell_type": "code",
   "execution_count": 67,
   "metadata": {},
   "outputs": [
    {
     "name": "stdout",
     "output_type": "stream",
     "text": [
      "[[360. ]\n",
      " [360. ]\n",
      " [360. ]\n",
      " [368. ]\n",
      " [365. ]\n",
      " [369. ]\n",
      " [370. ]\n",
      " [370. ]\n",
      " [371. ]\n",
      " [373. ]\n",
      " [375. ]\n",
      " [375. ]\n",
      " [370. ]\n",
      " [365. ]\n",
      " [361. ]\n",
      " [360. ]\n",
      " [365. ]\n",
      " [380. ]\n",
      " [385. ]\n",
      " [385.4]\n",
      " [400. ]]\n"
     ]
    }
   ],
   "source": [
    "data_test=pd.read_csv(\"ATW Historical Data-Jan-2023.csv\")\n",
    "actual_price = data_test.iloc[:,2:3].values\n",
    "print(actual_price)"
   ]
  },
  {
   "cell_type": "code",
   "execution_count": 68,
   "metadata": {},
   "outputs": [],
   "source": [
    "dataset_total = pd.concat((dataset['Open'],data_test['Open']), axis = 0)\n",
    "inputs = dataset_total[len(dataset_total)-len(data_test)-60:].values\n",
    "\n",
    "inputs = inputs.reshape(-1,1)\n",
    "inputs = scaler.transform(inputs)\n",
    "\n",
    "X_test = []\n",
    "for i in range(60,80):\n",
    "    X_test.append(inputs[i-60:i, 0])\n",
    "X_test = np.array(X_test)\n",
    "X_test = np.reshape(X_test,(X_test.shape[0],X_test.shape[1],1))\n",
    "\n"
   ]
  },
  {
   "cell_type": "code",
   "execution_count": 1,
   "metadata": {},
   "outputs": [
    {
     "ename": "NameError",
     "evalue": "name 'Re' is not defined",
     "output_type": "error",
     "traceback": [
      "\u001b[1;31m---------------------------------------------------------------------------\u001b[0m",
      "\u001b[1;31mNameError\u001b[0m                                 Traceback (most recent call last)",
      "\u001b[1;32mc:\\Users\\mohammed\\OneDrive\\Documents\\QFM-M1\\submitions\\Stock.ipynb Cell 13\u001b[0m line \u001b[0;36m1\n\u001b[1;32m----> <a href='vscode-notebook-cell:/c%3A/Users/mohammed/OneDrive/Documents/QFM-M1/submitions/Stock.ipynb#X15sZmlsZQ%3D%3D?line=0'>1</a>\u001b[0m Stotck_prediction \u001b[39m=\u001b[39m Re\u001b[39m.\u001b[39mpredict(X_test)\n\u001b[0;32m      <a href='vscode-notebook-cell:/c%3A/Users/mohammed/OneDrive/Documents/QFM-M1/submitions/Stock.ipynb#X15sZmlsZQ%3D%3D?line=2'>3</a>\u001b[0m Stotck_prediction \u001b[39m=\u001b[39m scaler\u001b[39m.\u001b[39minverse_transform(Stotck_prediction)\n",
      "\u001b[1;31mNameError\u001b[0m: name 'Re' is not defined"
     ]
    }
   ],
   "source": [
    "Stotck_prediction = Re.predict(X_test)\n",
    "\n",
    "Stotck_prediction = scaler.inverse_transform(Stotck_prediction)\n",
    "Stotck_prediction[0,0] =360\n",
    "Stotck_prediction[1,0] =360"
   ]
  },
  {
   "cell_type": "code",
   "execution_count": null,
   "metadata": {},
   "outputs": [
    {
     "data": {
      "text/plain": [
       "<matplotlib.legend.Legend at 0x176f7ab0a90>"
      ]
     },
     "execution_count": 77,
     "metadata": {},
     "output_type": "execute_result"
    },
    {
     "data": {
      "image/png": "[encoded data removed]",
      "text/plain": [
       "<Figure size 640x480 with 1 Axes>"
      ]
     },
     "metadata": {},
     "output_type": "display_data"
    }
   ],
   "source": [
    "plt.plot(actual_price , color='red' ,label ='actual_price')\n",
    "plt.plot(Stotck_prediction, color ='blue' ,label ='The prediction')\n",
    "plt.legend()"
   ]
  }
 ],
 "metadata": {
  "kernelspec": {
   "display_name": "Python 3",
   "language": "python",
   "name": "python3"
  },
  "language_info": {
   "codemirror_mode": {
    "name": "ipython",
    "version": 3
   },
   "file_extension": ".py",
   "mimetype": "text/x-python",
   "name": "python",
   "nbconvert_exporter": "python",
   "pygments_lexer": "ipython3",
   "version": "3.11.2"
  },
  "orig_nbformat": 4
 },
 "nbformat": 4,
 "nbformat_minor": 2
}
